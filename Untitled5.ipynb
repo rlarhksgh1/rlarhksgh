{
  "nbformat": 4,
  "nbformat_minor": 0,
  "metadata": {
    "colab": {
      "provenance": [],
      "authorship_tag": "ABX9TyO2indqHaIHxXTksAT8sKXs",
      "include_colab_link": true
    },
    "kernelspec": {
      "name": "python3",
      "display_name": "Python 3"
    },
    "language_info": {
      "name": "python"
    }
  },
  "cells": [
    {
      "cell_type": "markdown",
      "metadata": {
        "id": "view-in-github",
        "colab_type": "text"
      },
      "source": [
        "<a href=\"https://colab.research.google.com/github/rlarhksgh1/rlarhksgh/blob/main/Untitled5.ipynb\" target=\"_parent\"><img src=\"https://colab.research.google.com/assets/colab-badge.svg\" alt=\"Open In Colab\"/></a>"
      ]
    },
    {
      "cell_type": "code",
      "execution_count": 7,
      "metadata": {
        "colab": {
          "base_uri": "https://localhost:8080/"
        },
        "id": "ldEI1YrixZx6",
        "outputId": "4bfc0c8d-6725-465a-928a-e2a5baae974d"
      },
      "outputs": [
        {
          "output_type": "stream",
          "name": "stdout",
          "text": [
            "팅 팅팅팅 탱 탱탱탱 팅팅 탱탱 후라이팬 놀이!\n",
            "이름관호\n",
            "횟수 4\n",
            "관호관호관호관호\n",
            "이름세준\n",
            "횟수 5\n",
            "세준세준세준세준세준\n",
            "이름지성\n",
            "횟수 124\n",
            "지성지성지성지성지성지성지성지성지성지성지성지성지성지성지성지성지성지성지성지성지성지성지성지성지성지성지성지성지성지성지성지성지성지성지성지성지성지성지성지성지성지성지성지성지성지성지성지성지성지성지성지성지성지성지성지성지성지성지성지성지성지성지성지성지성지성지성지성지성지성지성지성지성지성지성지성지성지성지성지성지성지성지성지성지성지성지성지성지성지성지성지성지성지성지성지성지성지성지성지성지성지성지성지성지성지성지성지성지성지성지성지성지성지성지성지성지성지성지성지성지성지성지성지성\n",
            "이름준혁\n",
            "횟수 4\n",
            "준혁준혁준혁준혁\n",
            "이름지민\n",
            "횟수 2\n",
            "지민지민\n"
          ]
        }
      ],
      "source": [
        "print('팅 팅팅팅 탱 탱탱탱 팅팅 탱탱 후라이팬 놀이!')\n",
        "for i in range(5):\n",
        "  b = input('이름' )\n",
        "  a = int(input('횟수 '))\n",
        "  print(b*a)\n"
      ]
    },
    {
      "cell_type": "code",
      "source": [],
      "metadata": {
        "id": "XMbPjsGh0gGs"
      },
      "execution_count": null,
      "outputs": []
    }
  ]
}